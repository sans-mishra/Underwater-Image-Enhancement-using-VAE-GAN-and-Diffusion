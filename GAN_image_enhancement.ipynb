{
  "nbformat": 4,
  "nbformat_minor": 0,
  "metadata": {
    "colab": {
      "provenance": [],
      "gpuType": "T4",
      "include_colab_link": true
    },
    "kernelspec": {
      "name": "python3",
      "display_name": "Python 3"
    },
    "language_info": {
      "name": "python"
    },
    "accelerator": "GPU"
  },
  "cells": [
    {
      "cell_type": "markdown",
      "metadata": {
        "id": "view-in-github",
        "colab_type": "text"
      },
      "source": [
        "<a href=\"https://colab.research.google.com/github/sans-mishra/Underwater-Image-Enhancement-using-VAE-GAN-and-Diffusion/blob/main/GAN_image_enhancement.ipynb\" target=\"_parent\"><img src=\"https://colab.research.google.com/assets/colab-badge.svg\" alt=\"Open In Colab\"/></a>"
      ]
    },
    {
      "cell_type": "markdown",
      "source": [
        "# Import required libraries"
      ],
      "metadata": {
        "id": "xEvOleAVQ2Qx"
      }
    },
    {
      "cell_type": "code",
      "source": [
        "from google.colab import drive\n",
        "drive.mount('/content/drive')"
      ],
      "metadata": {
        "colab": {
          "base_uri": "https://localhost:8080/"
        },
        "id": "5iYWkcNhmT9j",
        "outputId": "485de315-8819-498b-c944-ac16f6afeec8"
      },
      "execution_count": null,
      "outputs": [
        {
          "output_type": "stream",
          "name": "stdout",
          "text": [
            "Mounted at /content/drive\n"
          ]
        }
      ]
    },
    {
      "cell_type": "code",
      "execution_count": null,
      "metadata": {
        "id": "BHxzecqwQvd2"
      },
      "outputs": [],
      "source": [
        "import torch\n",
        "import torch.nn as nn\n",
        "import torch.optim as optim\n",
        "from torch.utils.data import DataLoader, Dataset\n",
        "from torchvision import transforms\n",
        "from PIL import Image\n",
        "import os\n",
        "from skimage.metrics import peak_signal_noise_ratio as psnr, structural_similarity as ssim\n",
        "from torch.nn.functional import mse_loss\n",
        "import numpy as np"
      ]
    },
    {
      "cell_type": "markdown",
      "source": [
        "# Dataset paths"
      ],
      "metadata": {
        "id": "fUipHcbJVynO"
      }
    },
    {
      "cell_type": "code",
      "source": [
        "TRAIN_RAW_PATH = \"/content/drive/MyDrive/archive (2)/Train/Raw\"\n",
        "TRAIN_REFERENCE_PATH = \"/content/drive/MyDrive/archive (2)/Train/Reference\"\n",
        "TEST_RAW_PATH = \"/content/drive/MyDrive/archive (2)/Test/Raw\"\n",
        "TEST_REFERENCE_PATH = \"/content/drive/MyDrive/archive (2)/Test/Reference\"\n",
        "\n",
        "# Define device (CUDA if available, else CPU)\n",
        "device = torch.device('cuda' if torch.cuda.is_available() else 'cpu')"
      ],
      "metadata": {
        "id": "WhrPzbkiV1kg"
      },
      "execution_count": null,
      "outputs": []
    },
    {
      "cell_type": "markdown",
      "source": [
        "# Define dataset class"
      ],
      "metadata": {
        "id": "hMENaZzNRSbX"
      }
    },
    {
      "cell_type": "code",
      "source": [
        "class UnderwaterImageDataset(Dataset):\n",
        "    def __init__(self, raw_dir, reference_dir, transform=None):\n",
        "        self.raw_dir = raw_dir\n",
        "        self.reference_dir = reference_dir\n",
        "        self.transform = transform\n",
        "\n",
        "        # List of all raw image file names\n",
        "        self.raw_images = os.listdir(raw_dir)\n",
        "\n",
        "    def __len__(self):\n",
        "        # Returns the total number of raw images\n",
        "        return len(self.raw_images)\n",
        "\n",
        "    def __getitem__(self, idx):\n",
        "        # Load raw image and corresponding reference image\n",
        "        raw_image_path = os.path.join(self.raw_dir, self.raw_images[idx])\n",
        "        reference_image_path = os.path.join(self.reference_dir, self.raw_images[idx])\n",
        "\n",
        "        # Open the images\n",
        "        raw_image = Image.open(raw_image_path).convert(\"RGB\")\n",
        "        reference_image = Image.open(reference_image_path).convert(\"RGB\")\n",
        "\n",
        "        if self.transform:\n",
        "            # Apply the same transformations to both raw and reference images\n",
        "            raw_image = self.transform(raw_image)\n",
        "            reference_image = self.transform(reference_image)\n",
        "\n",
        "        return {'raw': raw_image, 'reference': reference_image}"
      ],
      "metadata": {
        "id": "JlJ0vM6bRVp0"
      },
      "execution_count": null,
      "outputs": []
    },
    {
      "cell_type": "markdown",
      "source": [
        "# Transformations"
      ],
      "metadata": {
        "id": "rLJCa5E3Z-q7"
      }
    },
    {
      "cell_type": "code",
      "source": [
        "transform = transforms.Compose([\n",
        "    transforms.Resize((256, 256)),  # Resize images to 256x256\n",
        "    transforms.ToTensor(),  # Convert images to tensors\n",
        "    transforms.Normalize(mean=[0.5, 0.5, 0.5], std=[0.5, 0.5, 0.5])  # Normalize to [-1, 1]\n",
        "])"
      ],
      "metadata": {
        "id": "KkUlEZOEd-09"
      },
      "execution_count": null,
      "outputs": []
    },
    {
      "cell_type": "markdown",
      "source": [
        "# Define the Generator (U-Net Architecture)"
      ],
      "metadata": {
        "id": "nIuPIN9GaLb1"
      }
    },
    {
      "cell_type": "code",
      "source": [
        "class UNetGenerator(nn.Module):\n",
        "    # U-Net Generator with skip connections as described in the Pix2Pix paper.\n",
        "    def __init__(self):\n",
        "        super(UNetGenerator, self).__init__()\n",
        "\n",
        "        # Encoder (Downsampling path)\n",
        "        self.enc1 = self.down_block(3, 64, apply_batchnorm=False)  # First layer, no batch norm\n",
        "        self.enc2 = self.down_block(64, 128)\n",
        "        self.enc3 = self.down_block(128, 256)\n",
        "        self.enc4 = self.down_block(256, 512)\n",
        "        self.enc5 = self.down_block(512, 512)\n",
        "        self.enc6 = self.down_block(512, 512)\n",
        "\n",
        "        # Decoder (Upsampling path with skip connections)\n",
        "        self.dec1 = self.up_block(512, 512)\n",
        "        self.dec2 = self.up_block(1024, 512)\n",
        "        self.dec3 = self.up_block(1024, 256)\n",
        "        self.dec4 = self.up_block(512, 128)\n",
        "        self.dec5 = self.up_block(256, 64)\n",
        "\n",
        "        self.final_layer = nn.ConvTranspose2d(128, 3, kernel_size=4, stride=2, padding=1)  # Final output layer\n",
        "\n",
        "    def down_block(self, in_channels, out_channels, apply_batchnorm=True):\n",
        "        #Downsampling block with convolution, batch normalization, and LeakyReLU.\n",
        "\n",
        "        layers = [nn.Conv2d(in_channels, out_channels, kernel_size=4, stride=2, padding=1)]\n",
        "        if apply_batchnorm:\n",
        "            layers.append(nn.BatchNorm2d(out_channels))\n",
        "        layers.append(nn.LeakyReLU(0.2))\n",
        "        return nn.Sequential(*layers)\n",
        "\n",
        "    def up_block(self, in_channels, out_channels, apply_dropout=False):\n",
        "        # Upsampling block with transposed convolution, batch normalization, and ReLU.\n",
        "\n",
        "        layers = [nn.ConvTranspose2d(in_channels, out_channels, kernel_size=4, stride=2, padding=1)]\n",
        "        layers.append(nn.BatchNorm2d(out_channels))\n",
        "        if apply_dropout:\n",
        "            layers.append(nn.Dropout(0.5))\n",
        "        layers.append(nn.ReLU())\n",
        "        return nn.Sequential(*layers)\n",
        "\n",
        "    def forward(self, x):\n",
        "        # Downsampling path (encoder)\n",
        "        enc1 = self.enc1(x)\n",
        "        enc2 = self.enc2(enc1)\n",
        "        enc3 = self.enc3(enc2)\n",
        "        enc4 = self.enc4(enc3)\n",
        "        enc5 = self.enc5(enc4)\n",
        "        enc6 = self.enc6(enc5)\n",
        "\n",
        "        # Upsampling path (decoder with skip connections)\n",
        "        dec1 = self.dec1(enc6)\n",
        "        dec2 = self.dec2(torch.cat([dec1, enc5], dim=1))\n",
        "        dec3 = self.dec3(torch.cat([dec2, enc4], dim=1))\n",
        "        dec4 = self.dec4(torch.cat([dec3, enc3], dim=1))\n",
        "        dec5 = self.dec5(torch.cat([dec4, enc2], dim=1))\n",
        "\n",
        "        return torch.tanh(self.final_layer(torch.cat([dec5, enc1], dim=1)))\n"
      ],
      "metadata": {
        "id": "6gSSy2Ymaexo"
      },
      "execution_count": null,
      "outputs": []
    },
    {
      "cell_type": "markdown",
      "source": [
        "# Define the Discriminator (PatchGAN Architecture)"
      ],
      "metadata": {
        "id": "ERTEBGIOgCgp"
      }
    },
    {
      "cell_type": "code",
      "source": [
        "class PatchGANDiscriminator(nn.Module):\n",
        "    #PatchGAN Discriminator as described in the Pix2Pix paper.\n",
        "\n",
        "    def __init__(self):\n",
        "        super(PatchGANDiscriminator, self).__init__()\n",
        "\n",
        "        self.model = nn.Sequential(\n",
        "            self.down_block(6, 64, apply_batchnorm=False),\n",
        "            self.down_block(64, 128),\n",
        "            self.down_block(128, 256),\n",
        "            self.down_block(256, 512),\n",
        "            nn.Conv2d(512, 1, kernel_size=4, stride=1, padding=1)  # Final layer (output: patch map)\n",
        "        )\n",
        "\n",
        "    def down_block(self, in_channels, out_channels, apply_batchnorm=True):\n",
        "        #Downsampling block with convolution, batch normalization, and LeakyReLU.\n",
        "\n",
        "        layers = [nn.Conv2d(in_channels, out_channels, kernel_size=4, stride=2, padding=1)]\n",
        "        if apply_batchnorm:\n",
        "            layers.append(nn.BatchNorm2d(out_channels))\n",
        "        layers.append(nn.LeakyReLU(0.2))\n",
        "        return nn.Sequential(*layers)\n",
        "\n",
        "    def forward(self, input, target):\n",
        "        # Forward pass with concatenated input and target images.\n",
        "\n",
        "        x = torch.cat([input, target], dim=1)  # Concatenate input and target along the channel dimension\n",
        "        return self.model(x)\n"
      ],
      "metadata": {
        "id": "97f80WTAgHBJ"
      },
      "execution_count": null,
      "outputs": []
    },
    {
      "cell_type": "markdown",
      "source": [
        "# Checking for unmatched images\n",
        "(encountered this error in this model)"
      ],
      "metadata": {
        "id": "8M0kDhnwLQ9I"
      }
    },
    {
      "cell_type": "code",
      "source": [
        "def check_and_remove_unmatched_images(raw_dir, reference_dir):\n",
        "\n",
        "    raw_images = set(os.listdir(raw_dir))\n",
        "    reference_images = set(os.listdir(reference_dir))\n",
        "\n",
        "    unmatched_raw = raw_images - reference_images  # Images in raw but not in reference\n",
        "    unmatched_reference = reference_images - raw_images  # Images in reference but not in raw\n",
        "\n",
        "    # Remove unmatched images from both directories\n",
        "    for image in unmatched_raw:\n",
        "        os.remove(os.path.join(raw_dir, image))\n",
        "        print(f\"Removed unmatched raw image: {image}\")\n",
        "\n",
        "    for image in unmatched_reference:\n",
        "        os.remove(os.path.join(reference_dir, image))\n",
        "        print(f\"Removed unmatched reference image: {image}\")"
      ],
      "metadata": {
        "id": "9ObI4eIsLRMa"
      },
      "execution_count": null,
      "outputs": []
    },
    {
      "cell_type": "markdown",
      "source": [
        "# Loss Functions"
      ],
      "metadata": {
        "id": "y7IOrcVjgd2n"
      }
    },
    {
      "cell_type": "code",
      "source": [
        "criterion_GAN = nn.MSELoss()  # GAN loss (MSE between real and generated)\n",
        "criterion_L1 = nn.L1Loss()  # Reconstruction loss (L1 loss between generated and reference)"
      ],
      "metadata": {
        "id": "4pdcZ6vugeqL"
      },
      "execution_count": null,
      "outputs": []
    },
    {
      "cell_type": "markdown",
      "source": [
        "# Training function"
      ],
      "metadata": {
        "id": "AsCaguqQgiKK"
      }
    },
    {
      "cell_type": "code",
      "source": [
        "def train(generator, discriminator, train_loader, optimizer_G, optimizer_D, epochs=20):\n",
        "    # Training loop for the GAN model.\n",
        "\n",
        "    for epoch in range(epochs):\n",
        "        for i, batch in enumerate(train_loader):\n",
        "            raw_image = batch['raw'].to(device)\n",
        "            reference_image = batch['reference'].to(device)\n",
        "\n",
        "            # Train Discriminator\n",
        "            fake_image = generator(raw_image)\n",
        "\n",
        "            # Real loss (real images should be classified as real)\n",
        "            real_output = discriminator(raw_image, reference_image)\n",
        "            real_loss = criterion_GAN(real_output, torch.ones_like(real_output))\n",
        "\n",
        "            # Fake loss (generated images should be classified as fake)\n",
        "            fake_output = discriminator(raw_image, fake_image.detach())\n",
        "            fake_loss = criterion_GAN(fake_output, torch.zeros_like(fake_output))\n",
        "\n",
        "            d_loss = (real_loss + fake_loss) / 2\n",
        "\n",
        "            optimizer_D.zero_grad()\n",
        "            d_loss.backward()\n",
        "            optimizer_D.step()\n",
        "\n",
        "            # Train Generator\n",
        "            fake_output = discriminator(raw_image, fake_image)\n",
        "            g_gan_loss = criterion_GAN(fake_output, torch.ones_like(fake_output))  # GAN loss for generator\n",
        "            g_l1_loss = criterion_L1(fake_image, reference_image) * 100  # L1 loss (reconstruction)\n",
        "            g_loss = g_gan_loss + g_l1_loss\n",
        "\n",
        "            optimizer_G.zero_grad()\n",
        "            g_loss.backward()\n",
        "            optimizer_G.step()\n",
        "\n",
        "            # Print progress\n",
        "            if i % 10 == 0:\n",
        "                print(f\"Epoch [{epoch}/{epochs}], Step [{i}/{len(train_loader)}], D Loss: {d_loss.item():.4f}, G Loss: {g_loss.item():.4f}\")"
      ],
      "metadata": {
        "id": "QbGkw9xwglrb"
      },
      "execution_count": null,
      "outputs": []
    },
    {
      "cell_type": "markdown",
      "source": [
        "# Evaluation Function"
      ],
      "metadata": {
        "id": "TkOjnvRFVfOu"
      }
    },
    {
      "cell_type": "code",
      "source": [
        "def evaluate(generator, test_loader):\n",
        "\n",
        "    # Evaluate the GAN model on the test dataset using PSNR, SSIM, and MSE.\n",
        "\n",
        "    psnr_scores = []  # Store PSNR values\n",
        "    ssim_scores = []  # Store SSIM values\n",
        "    mse_scores = []  # Store MSE values\n",
        "\n",
        "    with torch.no_grad():\n",
        "        for batch in test_loader:  # Iterate through batches in the test_loader\n",
        "            raw_image = batch['raw'].to(device)\n",
        "            reference_image = batch['reference'].to(device)\n",
        "\n",
        "            fake_image = generator(raw_image)  # Generate fake images using the generator\n",
        "\n",
        "            # Iterate through images within the batch\n",
        "            for i in range(raw_image.size(0)):\n",
        "                # Extract individual images\n",
        "                fake_image_np = fake_image[i].cpu().numpy().transpose(1, 2, 0)\n",
        "                reference_image_np = reference_image[i].cpu().numpy().transpose(1, 2, 0)\n",
        "\n",
        "                # Ensure images are in the correct data type and range\n",
        "                fake_image_np = np.clip(fake_image_np * 0.5 + 0.5, 0, 1)  # Unnormalize and clip\n",
        "                reference_image_np = np.clip(reference_image_np * 0.5 + 0.5, 0, 1)  # Unnormalize and clip\n",
        "\n",
        "                # Calculate metrics for individual images\n",
        "                psnr_value = psnr(reference_image_np, fake_image_np, data_range=1.0)\n",
        "                ssim_value = ssim(reference_image_np, fake_image_np, multichannel=True, win_size= 3, data_range=1.0)\n",
        "                mse_value = mse_loss(torch.from_numpy(fake_image_np), torch.from_numpy(reference_image_np)).item()\n",
        "\n",
        "                # Append scores for individual images\n",
        "                psnr_scores.append(psnr_value)\n",
        "                ssim_scores.append(ssim_value)\n",
        "                mse_scores.append(mse_value)\n",
        "\n",
        "    # Calculate average scores\n",
        "    if psnr_scores and ssim_scores and mse_scores:\n",
        "        avg_psnr = np.mean(psnr_scores)\n",
        "        avg_ssim = np.mean(ssim_scores)\n",
        "        avg_mse = np.mean(mse_scores)\n",
        "        print(f\"Average PSNR: {avg_psnr:.4f}, Average SSIM: {avg_ssim:.4f}, Average MSE: {avg_mse:.4f}\")\n",
        "    else:\n",
        "        print(\"No scores to calculate average.\")"
      ],
      "metadata": {
        "id": "lHSR38cmVkfh"
      },
      "execution_count": null,
      "outputs": []
    },
    {
      "cell_type": "markdown",
      "source": [
        "# Main function"
      ],
      "metadata": {
        "id": "S9OUP9IyV8Dh"
      }
    },
    {
      "cell_type": "code",
      "source": [
        "def main():\n",
        "    # Check and remove unmatched images\n",
        "    check_and_remove_unmatched_images(TRAIN_RAW_PATH, TRAIN_REFERENCE_PATH)\n",
        "    check_and_remove_unmatched_images(TEST_RAW_PATH, TEST_REFERENCE_PATH)\n",
        "\n",
        "    # Initialize the dataset and dataloaders\n",
        "    train_dataset = UnderwaterImageDataset(raw_dir=TRAIN_RAW_PATH, reference_dir=TRAIN_REFERENCE_PATH, transform=transform)\n",
        "    test_dataset = UnderwaterImageDataset(raw_dir=TEST_RAW_PATH, reference_dir=TEST_REFERENCE_PATH, transform=transform)\n",
        "\n",
        "    # Ensure datasets have equal length\n",
        "    min_len = min(len(train_dataset), len(test_dataset))\n",
        "    train_dataset = torch.utils.data.Subset(train_dataset, range(min_len))\n",
        "    test_dataset = torch.utils.data.Subset(test_dataset, range(min_len))\n",
        "\n",
        "    train_loader = DataLoader(train_dataset, batch_size=16, shuffle=True, num_workers=2)\n",
        "    test_loader = DataLoader(test_dataset, batch_size=16, shuffle=False, num_workers=2)\n",
        "\n",
        "    # Initialize the generator and discriminator\n",
        "    generator = UNetGenerator().to(device)\n",
        "    discriminator = PatchGANDiscriminator().to(device)\n",
        "\n",
        "    # Optimizers\n",
        "    optimizer_G = torch.optim.Adam(generator.parameters(), lr=0.001, betas=(0.5, 0.999))\n",
        "    optimizer_D = torch.optim.Adam(discriminator.parameters(), lr=0.001, betas=(0.5, 0.999))\n",
        "\n",
        "    # Train the model\n",
        "    train(generator, discriminator, train_loader, optimizer_G, optimizer_D, epochs=20)\n",
        "\n",
        "    # Evaluate the model\n",
        "    evaluate(generator, test_loader)"
      ],
      "metadata": {
        "id": "udfdCALNV-tE"
      },
      "execution_count": null,
      "outputs": []
    },
    {
      "cell_type": "markdown",
      "source": [
        "# Run Training"
      ],
      "metadata": {
        "id": "t1V19gGzWZbA"
      }
    },
    {
      "cell_type": "code",
      "source": [
        "if __name__ == \"__main__\":\n",
        "    main()"
      ],
      "metadata": {
        "id": "Bj_QNm0dW5rs",
        "colab": {
          "base_uri": "https://localhost:8080/"
        },
        "outputId": "afb97728-e157-46ed-a469-c0d61aef3b5d"
      },
      "execution_count": null,
      "outputs": [
        {
          "output_type": "stream",
          "name": "stdout",
          "text": [
            "Removed unmatched raw image: 301_img_ (1).png\n",
            "Removed unmatched reference image: 95_img_ (1).png\n",
            "Removed unmatched reference image: 96_img_ (1).png\n",
            "Removed unmatched reference image: 928_img_ (1).png\n",
            "Removed unmatched reference image: 9907 (1).png\n",
            "Removed unmatched reference image: 929_img_ (1).png\n",
            "Removed unmatched reference image: 97_img_ (1).png\n",
            "Removed unmatched reference image: 9896 (1).png\n",
            "Removed unmatched reference image: 9947 (1).png\n",
            "Removed unmatched reference image: 9567 (1).png\n",
            "Removed unmatched reference image: 92_img_ (1).png\n",
            "Removed unmatched raw image: 494_img_ (1).png\n",
            "Removed unmatched raw image: 4_img_ (1).png\n",
            "Removed unmatched raw image: 491_img_ (1).png\n",
            "Removed unmatched raw image: 50_img_ (1).png\n",
            "Removed unmatched raw image: 495_img_ (1).png\n",
            "Removed unmatched raw image: 502_img_ (1).png\n",
            "Epoch [0/20], Step [0/12], D Loss: 0.3934, G Loss: 75.1066\n",
            "Epoch [0/20], Step [10/12], D Loss: 0.2738, G Loss: 25.2139\n",
            "Epoch [1/20], Step [0/12], D Loss: 0.2598, G Loss: 25.1609\n",
            "Epoch [1/20], Step [10/12], D Loss: 0.2651, G Loss: 21.7979\n",
            "Epoch [2/20], Step [0/12], D Loss: 0.2548, G Loss: 21.4557\n",
            "Epoch [2/20], Step [10/12], D Loss: 0.2937, G Loss: 25.0623\n",
            "Epoch [3/20], Step [0/12], D Loss: 0.2719, G Loss: 23.9492\n",
            "Epoch [3/20], Step [10/12], D Loss: 0.3002, G Loss: 24.1101\n",
            "Epoch [4/20], Step [0/12], D Loss: 0.3347, G Loss: 20.8218\n",
            "Epoch [4/20], Step [10/12], D Loss: 0.2567, G Loss: 24.2455\n",
            "Epoch [5/20], Step [0/12], D Loss: 0.2640, G Loss: 20.0021\n",
            "Epoch [5/20], Step [10/12], D Loss: 0.2615, G Loss: 20.4567\n",
            "Epoch [6/20], Step [0/12], D Loss: 0.2537, G Loss: 20.8449\n",
            "Epoch [6/20], Step [10/12], D Loss: 0.2747, G Loss: 18.5088\n",
            "Epoch [7/20], Step [0/12], D Loss: 0.4207, G Loss: 23.9357\n",
            "Epoch [7/20], Step [10/12], D Loss: 0.2542, G Loss: 18.1571\n",
            "Epoch [8/20], Step [0/12], D Loss: 0.2520, G Loss: 18.9787\n",
            "Epoch [8/20], Step [10/12], D Loss: 0.2459, G Loss: 19.0350\n",
            "Epoch [9/20], Step [0/12], D Loss: 0.2558, G Loss: 16.1823\n",
            "Epoch [9/20], Step [10/12], D Loss: 0.2480, G Loss: 20.0476\n",
            "Epoch [10/20], Step [0/12], D Loss: 0.2500, G Loss: 19.1687\n",
            "Epoch [10/20], Step [10/12], D Loss: 0.2408, G Loss: 17.8311\n",
            "Epoch [11/20], Step [0/12], D Loss: 0.2541, G Loss: 17.4397\n",
            "Epoch [11/20], Step [10/12], D Loss: 0.5455, G Loss: 17.9073\n",
            "Epoch [12/20], Step [0/12], D Loss: 1.2983, G Loss: 18.2823\n",
            "Epoch [12/20], Step [10/12], D Loss: 1.3367, G Loss: 16.7408\n",
            "Epoch [13/20], Step [0/12], D Loss: 0.3044, G Loss: 18.7724\n",
            "Epoch [13/20], Step [10/12], D Loss: 0.2630, G Loss: 20.9116\n",
            "Epoch [14/20], Step [0/12], D Loss: 0.2549, G Loss: 18.9740\n",
            "Epoch [14/20], Step [10/12], D Loss: 0.2580, G Loss: 19.7860\n",
            "Epoch [15/20], Step [0/12], D Loss: 0.2463, G Loss: 17.8624\n",
            "Epoch [15/20], Step [10/12], D Loss: 0.2776, G Loss: 18.7074\n",
            "Epoch [16/20], Step [0/12], D Loss: 0.2536, G Loss: 18.7165\n",
            "Epoch [16/20], Step [10/12], D Loss: 0.2484, G Loss: 16.6221\n",
            "Epoch [17/20], Step [0/12], D Loss: 0.2577, G Loss: 17.6134\n",
            "Epoch [17/20], Step [10/12], D Loss: 0.2397, G Loss: 20.4739\n",
            "Epoch [18/20], Step [0/12], D Loss: 0.2438, G Loss: 20.3988\n",
            "Epoch [18/20], Step [10/12], D Loss: 0.2626, G Loss: 19.9126\n",
            "Epoch [19/20], Step [0/12], D Loss: 0.2777, G Loss: 15.6867\n",
            "Epoch [19/20], Step [10/12], D Loss: 0.2570, G Loss: 20.1444\n",
            "Average PSNR: 18.9526, Average SSIM: 0.6481, Average MSE: 0.0174\n"
          ]
        }
      ]
    }
  ]
}