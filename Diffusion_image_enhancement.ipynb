{
  "cells": [
    {
      "cell_type": "markdown",
      "metadata": {
        "id": "view-in-github",
        "colab_type": "text"
      },
      "source": [
        "<a href=\"https://colab.research.google.com/github/sans-mishra/Underwater-Image-Enhancement-using-VAE-GAN-and-Diffusion/blob/main/Diffusion_image_enhancement.ipynb\" target=\"_parent\"><img src=\"https://colab.research.google.com/assets/colab-badge.svg\" alt=\"Open In Colab\"/></a>"
      ]
    },
    {
      "cell_type": "markdown",
      "metadata": {
        "id": "xLKufwIXt7N4"
      },
      "source": [
        "# Import required libraries"
      ]
    },
    {
      "cell_type": "code",
      "execution_count": null,
      "metadata": {
        "id": "4xT0dI1tgnmt"
      },
      "outputs": [],
      "source": [
        "import torch\n",
        "import torch.nn as nn\n",
        "import torch.optim as optim\n",
        "from torch.utils.data import Dataset, DataLoader\n",
        "from torchvision import transforms\n",
        "from PIL import Image\n",
        "import os\n",
        "import numpy as np\n",
        "from skimage.metrics import peak_signal_noise_ratio, structural_similarity, mean_squared_error\n"
      ]
    },
    {
      "cell_type": "markdown",
      "metadata": {
        "id": "8J5YY7L9uEZC"
      },
      "source": [
        "# Define the forward diffusion process"
      ]
    },
    {
      "cell_type": "code",
      "execution_count": null,
      "metadata": {
        "id": "aUAl2skeuIev"
      },
      "outputs": [],
      "source": [
        "def forward_diffusion(x0, noise, t, T):\n",
        "\n",
        "    t = t.to(x0.device)\n",
        "    # Ensure t is a float tensor\n",
        "    t = t.float()\n",
        "\n",
        "    # Reshape alpha to match x0 and noise\n",
        "    alpha = 1 - (t / T)[:, None, None, None]\n",
        "\n",
        "    return alpha * x0 + (1 - alpha) * noise"
      ]
    },
    {
      "cell_type": "markdown",
      "metadata": {
        "id": "VmRskwp0bGyW"
      },
      "source": [
        "# U-Net model for denoising"
      ]
    },
    {
      "cell_type": "code",
      "execution_count": null,
      "metadata": {
        "id": "INfQ_HhybMhp"
      },
      "outputs": [],
      "source": [
        "class SimpleUNet(nn.Module):\n",
        "    def __init__(self, in_channels, out_channels):\n",
        "        super(SimpleUNet, self).__init__()\n",
        "        self.encoder = nn.Sequential(\n",
        "            nn.Conv2d(in_channels, 64, kernel_size=3, padding=1),\n",
        "            nn.ReLU(),\n",
        "            nn.Conv2d(64, 128, kernel_size=3, padding=1),\n",
        "            nn.ReLU()\n",
        "        )\n",
        "        self.decoder = nn.Sequential(\n",
        "            nn.Conv2d(128, 64, kernel_size=3, padding=1),\n",
        "            nn.ReLU(),\n",
        "            nn.Conv2d(64, out_channels, kernel_size=3, padding=1),\n",
        "            nn.Sigmoid()\n",
        "        )\n",
        "\n",
        "    def forward(self, x):\n",
        "        x = self.encoder(x)  # Encode input\n",
        "        x = self.decoder(x)  # Decode back to image\n",
        "        return x"
      ]
    },
    {
      "cell_type": "markdown",
      "metadata": {
        "id": "ZsUQK_iObRtj"
      },
      "source": [
        "# Custom dataset for underwater image enhancement"
      ]
    },
    {
      "cell_type": "code",
      "execution_count": null,
      "metadata": {
        "id": "UsHVot19bUro"
      },
      "outputs": [],
      "source": [
        "class UnderwaterDataset(Dataset):\n",
        "    def __init__(self, raw_dir, ref_dir, transform=None):\n",
        "        self.raw_dir = raw_dir\n",
        "        self.ref_dir = ref_dir\n",
        "        self.transform = transform\n",
        "        self.raw_images = os.listdir(raw_dir)\n",
        "\n",
        "    def __len__(self):\n",
        "        return len(self.raw_images)\n",
        "\n",
        "    def __getitem__(self, idx):\n",
        "        raw_image = Image.open(os.path.join(self.raw_dir, self.raw_images[idx])).convert('RGB')\n",
        "        ref_image = Image.open(os.path.join(self.ref_dir, self.raw_images[idx])).convert('RGB')\n",
        "\n",
        "        if self.transform:\n",
        "            raw_image = self.transform(raw_image)\n",
        "            ref_image = self.transform(ref_image)\n",
        "\n",
        "        return raw_image, ref_image"
      ]
    },
    {
      "cell_type": "markdown",
      "metadata": {
        "id": "62yPmJchbeJe"
      },
      "source": [
        "# Transformation: resize and normalize images"
      ]
    },
    {
      "cell_type": "code",
      "execution_count": null,
      "metadata": {
        "id": "cc7sEPVKbfVB"
      },
      "outputs": [],
      "source": [
        "transform = transforms.Compose([\n",
        "    transforms.Resize((256, 256)),\n",
        "    transforms.ToTensor(),\n",
        "    transforms.Normalize((0.5,), (0.5,))\n",
        "])"
      ]
    },
    {
      "cell_type": "markdown",
      "metadata": {
        "id": "tlhate5YbvpA"
      },
      "source": [
        "# Data Loading for Training data"
      ]
    },
    {
      "cell_type": "code",
      "execution_count": null,
      "metadata": {
        "id": "OGzXOXfQcfPP"
      },
      "outputs": [],
      "source": [
        "# Define dataset paths\n",
        "train_raw_dir = '/content/drive/MyDrive/archive (2)/Train/Raw'\n",
        "train_ref_dir = '/content/drive/MyDrive/archive (2)/Train/Reference'\n",
        "\n",
        "# DataLoader for the training data\n",
        "train_dataset = UnderwaterDataset(train_raw_dir, train_ref_dir, transform=transform)\n",
        "train_loader = DataLoader(train_dataset, batch_size=32, shuffle=True)\n"
      ]
    },
    {
      "cell_type": "markdown",
      "metadata": {
        "id": "gZ1aWmOzc32p"
      },
      "source": [
        "# Model, optimizer, and loss function"
      ]
    },
    {
      "cell_type": "code",
      "execution_count": null,
      "metadata": {
        "id": "rjSf-kI9c3gB"
      },
      "outputs": [],
      "source": [
        "model = SimpleUNet(in_channels=3, out_channels=3).cuda()  # 3 channels for RGB\n",
        "optimizer = optim.Adam(model.parameters(), lr=1e-4)\n",
        "criterion = nn.MSELoss()"
      ]
    },
    {
      "cell_type": "markdown",
      "metadata": {
        "id": "D2vz-So0c9Od"
      },
      "source": [
        "# Training loop"
      ]
    },
    {
      "cell_type": "code",
      "execution_count": null,
      "metadata": {
        "colab": {
          "background_save": true,
          "base_uri": "https://localhost:8080/"
        },
        "id": "Dw2L03zAdABG",
        "outputId": "1954809b-0478-4dea-be71-5e9d385bc7c3"
      },
      "outputs": [
        {
          "name": "stdout",
          "output_type": "stream",
          "text": [
            "Epoch 1/10, Loss: 0.4498656988143921\n",
            "Epoch 2/10, Loss: 0.28697434067726135\n",
            "Epoch 3/10, Loss: 0.2705778181552887\n",
            "Epoch 4/10, Loss: 0.25321105122566223\n",
            "Epoch 5/10, Loss: 0.24637527763843536\n",
            "Epoch 6/10, Loss: 0.24316878616809845\n",
            "Epoch 7/10, Loss: 0.26397451758384705\n",
            "Epoch 8/10, Loss: 0.23810561001300812\n",
            "Epoch 9/10, Loss: 0.2239563763141632\n",
            "Epoch 10/10, Loss: 0.23351508378982544\n"
          ]
        }
      ],
      "source": [
        "epochs = 10\n",
        "T = 1000  # Diffusion steps\n",
        "for epoch in range(epochs):\n",
        "    model.train()\n",
        "\n",
        "    for batch_idx, (raw, ref) in enumerate(train_loader):\n",
        "        raw, ref = raw.cuda(), ref.cuda()\n",
        "        optimizer.zero_grad()\n",
        "\n",
        "        noise = torch.randn_like(raw)  # Gaussian noise\n",
        "        t = torch.randint(0, T, (raw.shape[0],))  # Random time steps\n",
        "        xt = forward_diffusion(raw, noise, t, T)  # Apply noise\n",
        "\n",
        "        reconstructed = model(xt)  # Denoise\n",
        "        loss = criterion(reconstructed, ref)  # Compute loss\n",
        "        loss.backward()\n",
        "        optimizer.step()\n",
        "\n",
        "    print(f'Epoch {epoch+1}/{epochs}, Loss: {loss.item()}')"
      ]
    },
    {
      "cell_type": "markdown",
      "metadata": {
        "id": "JCGYO98pdFRB"
      },
      "source": [
        "# Evaluation function for PSNR, SSIM, and MSE"
      ]
    },
    {
      "cell_type": "code",
      "execution_count": null,
      "metadata": {
        "id": "NjEIWmTMdIN1"
      },
      "outputs": [],
      "source": [
        "def evaluate_metrics(original, enhanced):\n",
        "    psnr = peak_signal_noise_ratio(original, enhanced)\n",
        "    min_value = np.min(ref)  # Minimum pixel value in 'ref' image\n",
        "    max_value = np.max(ref)  # Maximum pixel value in 'ref' image\n",
        "    data_range = max_value - min_value  # Calculate data range\n",
        "\n",
        "    ssim = structural_similarity(original, enhanced, multichannel=True, win_size=3, data_range=data_range)\n",
        "    mse = mean_squared_error(original, enhanced)\n",
        "    return psnr, ssim, mse"
      ]
    },
    {
      "cell_type": "markdown",
      "metadata": {
        "id": "WqoP6r2Zdo--"
      },
      "source": [
        "# Load test data"
      ]
    },
    {
      "cell_type": "code",
      "execution_count": null,
      "metadata": {
        "id": "oQOF7yVgdUw8"
      },
      "outputs": [],
      "source": [
        "test_raw_dir = '/content/drive/MyDrive/archive (2)/Test/Raw'\n",
        "test_ref_dir = '/content/drive/MyDrive/archive (2)/Test/Reference'\n",
        "\n",
        "test_dataset = UnderwaterDataset(test_raw_dir, test_ref_dir, transform=transform)\n",
        "test_loader = DataLoader(test_dataset, batch_size=1, shuffle=False)"
      ]
    },
    {
      "cell_type": "markdown",
      "metadata": {
        "id": "P0x38GujdMmi"
      },
      "source": [
        "# Evaluate the model"
      ]
    },
    {
      "cell_type": "code",
      "execution_count": null,
      "metadata": {
        "colab": {
          "base_uri": "https://localhost:8080/"
        },
        "id": "8cBuVJ46deT8",
        "outputId": "62608ad3-da2c-4e60-ba07-2bbc41bb7770"
      },
      "outputs": [
        {
          "output_type": "stream",
          "name": "stdout",
          "text": [
            "PSNR: 13.13808137811682, SSIM: -0.01711915610157074, MSE: 0.1942011751204478\n",
            "PSNR: 12.014139418081399, SSIM: 0.01631523194941615, MSE: 0.2515625854222137\n",
            "PSNR: 13.397052816903445, SSIM: 0.0004944980679069372, MSE: 0.18295939253025043\n",
            "PSNR: 13.282965473591076, SSIM: 0.02898224223302146, MSE: 0.18782934497259704\n",
            "PSNR: 11.634252024801274, SSIM: -0.1052635010717341, MSE: 0.2745584338478135\n",
            "PSNR: 11.5041275445527, SSIM: 0.01608662752840337, MSE: 0.28290930829742283\n",
            "PSNR: 14.26549004274751, SSIM: -0.008399057130857642, MSE: 0.14979971498335626\n",
            "PSNR: 12.05526617798798, SSIM: -0.07899924693957412, MSE: 0.2491915856144131\n",
            "PSNR: 11.377977897766272, SSIM: 0.013625137735428308, MSE: 0.2912474969036634\n",
            "PSNR: 12.895117000675864, SSIM: 0.13819347176769972, MSE: 0.2053753380326512\n",
            "PSNR: 11.814529260560143, SSIM: 0.05059349051651649, MSE: 0.26339472024787375\n",
            "PSNR: 12.674528134336693, SSIM: 0.049218206935405066, MSE: 0.2160763215571154\n",
            "PSNR: 11.726470340325534, SSIM: 0.05447072080301181, MSE: 0.2687899071650497\n",
            "PSNR: 13.79674362081422, SSIM: 0.00014652032149318608, MSE: 0.1668728292428362\n",
            "PSNR: 13.541298738651912, SSIM: 0.00025394891931388233, MSE: 0.17698241521350344\n",
            "PSNR: 12.683622717381349, SSIM: -0.2537569129032924, MSE: 0.2156243084693329\n",
            "PSNR: 11.82113191801296, SSIM: -0.010386630437995236, MSE: 0.26299458074384396\n",
            "PSNR: 11.353068262994835, SSIM: 0.014332010992444707, MSE: 0.2929227920381639\n",
            "PSNR: 11.289320830036127, SSIM: 0.009217657337675055, MSE: 0.29725413751227386\n",
            "PSNR: 12.48334910570094, SSIM: -0.00031087877871204184, MSE: 0.2258005943614125\n",
            "PSNR: 14.638334721856214, SSIM: -0.011656456656990563, MSE: 0.1374758834210135\n",
            "PSNR: 14.447753229728217, SSIM: 0.06930492610031137, MSE: 0.1436430666521152\n",
            "PSNR: 11.279799156934075, SSIM: 0.01637347635825035, MSE: 0.2979065661787524\n",
            "PSNR: 12.799385762473182, SSIM: 0.05339663383798327, MSE: 0.20995267632460293\n",
            "PSNR: 13.14439893687464, SSIM: -0.08617296709232733, MSE: 0.19391888154628614\n",
            "PSNR: 11.345933117602495, SSIM: 0.0008076671303338615, MSE: 0.2934044386249354\n",
            "PSNR: 11.217032661084822, SSIM: 0.007411694562541823, MSE: 0.3022433298099336\n",
            "PSNR: 12.636409523745789, SSIM: 0.003220751017453088, MSE: 0.21798119994099263\n",
            "PSNR: 13.915164580916343, SSIM: 0.0002754884871289965, MSE: 0.1623841114503309\n",
            "PSNR: 9.834715340635709, SSIM: 0.007637235588603066, MSE: 0.415516675217068\n",
            "PSNR: 10.186382915589753, SSIM: -0.011497929183418024, MSE: 0.3831966465198487\n",
            "PSNR: 11.809522215770258, SSIM: 0.005631779097496488, MSE: 0.2636985670057032\n",
            "PSNR: 11.425288376951457, SSIM: -0.004396496491734929, MSE: 0.2880919701941458\n",
            "PSNR: 14.307954403853039, SSIM: -0.014534801064087348, MSE: 0.1483421437715551\n",
            "PSNR: 11.680315119222794, SSIM: 0.007865790626172606, MSE: 0.2716617408594028\n",
            "PSNR: 12.257124015349524, SSIM: 0.11209944135720373, MSE: 0.23787433642801328\n",
            "PSNR: 12.983764149228342, SSIM: 0.08458596928139613, MSE: 0.20122576003346407\n",
            "PSNR: 13.249688958528548, SSIM: -0.1527203708649816, MSE: 0.1892740588969627\n",
            "PSNR: 13.242152302297418, SSIM: -0.01479284722116541, MSE: 0.18960280633557383\n",
            "PSNR: 10.659893963096252, SSIM: 0.002034725960423195, MSE: 0.34361379813966253\n",
            "PSNR: 12.233550951261893, SSIM: -0.00994447975408116, MSE: 0.23916900469022717\n",
            "PSNR: 15.021184045635694, SSIM: 0.10533078234626417, MSE: 0.12587560958933233\n",
            "PSNR: 12.326753946976961, SSIM: 0.057303572256418814, MSE: 0.23409093518528057\n",
            "PSNR: 11.858727932125944, SSIM: 0.06323967872260283, MSE: 0.26072771474963635\n",
            "PSNR: 12.648362445502869, SSIM: 0.237175925965063, MSE: 0.21738208342053766\n",
            "PSNR: 12.004935370289832, SSIM: -0.058464469204989905, MSE: 0.25209628994963024\n",
            "PSNR: 10.194316422527951, SSIM: -0.009284382230365925, MSE: 0.3824972781617592\n",
            "PSNR: 13.236341668924261, SSIM: 0.00017828862553151564, MSE: 0.18985665476923072\n",
            "PSNR: 12.44540279094166, SSIM: -0.004833010804218867, MSE: 0.22778216277748342\n",
            "PSNR: 12.886261182338268, SSIM: 0.08546518987381634, MSE: 0.20579455180813586\n",
            "PSNR: 12.130999077594158, SSIM: -0.01976920344465621, MSE: 0.24488381563861028\n",
            "PSNR: 12.974028189708033, SSIM: -0.02902196375655295, MSE: 0.20167737145145215\n",
            "PSNR: 12.597625027165959, SSIM: -0.03972608356281944, MSE: 0.21993659068174887\n",
            "PSNR: 13.406522307743586, SSIM: 0.03809365192589137, MSE: 0.1825608968314909\n",
            "PSNR: 11.320855858996106, SSIM: 0.0056988127100806455, MSE: 0.29510353061736877\n",
            "PSNR: 11.4546818289556, SSIM: -0.021630503993671633, MSE: 0.2861487205725924\n",
            "PSNR: 12.40710805906905, SSIM: 0.10636249670923681, MSE: 0.22979955609335678\n",
            "PSNR: 8.538018990836724, SSIM: 0.0003949953894337413, MSE: 0.5600903527449079\n",
            "PSNR: 12.77853019968887, SSIM: 0.00820426416688853, MSE: 0.21096332965842113\n",
            "PSNR: 10.333147952751585, SSIM: -0.002833215985659802, MSE: 0.37046330430924757\n",
            "PSNR: 9.738311946532969, SSIM: -0.0028440836180214906, MSE: 0.4248433225793285\n",
            "PSNR: 13.325306378438944, SSIM: 0.011820299940238978, MSE: 0.18600702790685222\n",
            "PSNR: 16.541385895125412, SSIM: 0.011273533801698895, MSE: 0.08869954699506422\n",
            "PSNR: 9.988722304163062, SSIM: -0.019335017665421554, MSE: 0.40104006399976466\n",
            "PSNR: 12.808169848018824, SSIM: 0.04716605189539792, MSE: 0.20952845301274403\n",
            "PSNR: 10.79210839741991, SSIM: 0.01927792291775374, MSE: 0.33331062010737317\n",
            "PSNR: 11.900066371409546, SSIM: 0.12587495134214843, MSE: 0.2582577447385879\n",
            "PSNR: 11.992871942796345, SSIM: 0.010649153098627885, MSE: 0.2527975129816044\n",
            "PSNR: 11.92172901477532, SSIM: -0.014912160110706304, MSE: 0.25697276046991446\n",
            "PSNR: 12.424444372377048, SSIM: 0.026642125772116696, MSE: 0.22888406295435085\n",
            "PSNR: 9.899779338895874, SSIM: 0.0013887341354997796, MSE: 0.40933799447776925\n",
            "PSNR: 13.061564432907847, SSIM: 0.1752944034733632, MSE: 0.19765306259463564\n",
            "PSNR: 11.73488818169676, SSIM: 0.0037510276219551906, MSE: 0.26826942175586405\n",
            "PSNR: 15.054069323772579, SSIM: -0.2754620221138756, MSE: 0.12492606455167272\n",
            "PSNR: 11.982162700918265, SSIM: 0.006723810832671048, MSE: 0.2534216540865822\n",
            "PSNR: 11.441056469587817, SSIM: 0.004465785385994786, MSE: 0.2870478804279796\n",
            "PSNR: 12.97478696936067, SSIM: 0.0243408100484574, MSE: 0.20164213837233888\n",
            "PSNR: 11.097132871849379, SSIM: 0.014559568303428526, MSE: 0.310703899661672\n",
            "PSNR: 11.226351863640154, SSIM: 0.0672615523368558, MSE: 0.30159546366123285\n",
            "PSNR: 10.202902622870349, SSIM: 0.004353524177470656, MSE: 0.38174181060901274\n",
            "PSNR: 11.519163188184653, SSIM: 0.0009379974068822789, MSE: 0.281931545781235\n",
            "PSNR: 11.582168452155186, SSIM: 0.03987267435067675, MSE: 0.2778709501597264\n",
            "PSNR: 11.309125853617882, SSIM: 0.008174110138538984, MSE: 0.29590166301074333\n",
            "PSNR: 10.320505611975506, SSIM: -0.0965489515874403, MSE: 0.3715432965809827\n",
            "PSNR: 10.831436931726838, SSIM: -0.007860170598025911, MSE: 0.33030587484578006\n",
            "PSNR: 13.401513770112734, SSIM: -0.026639903202597702, MSE: 0.1827715581709847\n",
            "PSNR: 11.775732686430604, SSIM: 0.02067787144853822, MSE: 0.26575823003134075\n",
            "PSNR: 13.665255314004268, SSIM: 0.06273685883584984, MSE: 0.17200238144079794\n",
            "PSNR: 11.551201204692115, SSIM: 0.006446658852368319, MSE: 0.27985938205988625\n",
            "PSNR: 12.054653442320419, SSIM: -0.05028006216778951, MSE: 0.2492267459378029\n",
            "PSNR: 11.645240185833481, SSIM: -0.007141930555511748, MSE: 0.2738646467793479\n",
            "PSNR: 13.010889721571605, SSIM: 0.21459429113710696, MSE: 0.1999728421652305\n",
            "PSNR: 11.101108642498943, SSIM: -0.0056865674605632915, MSE: 0.31041959437024363\n",
            "PSNR: 12.849448176990242, SSIM: 0.007114139405937019, MSE: 0.20754638514335297\n",
            "PSNR: 11.615449468954377, SSIM: 0.015475097793485906, MSE: 0.27574969733818505\n",
            "PSNR: 11.707860071070865, SSIM: 0.12265725068767286, MSE: 0.2699441897631815\n",
            "PSNR: 13.827647361038377, SSIM: 0.01373109735857539, MSE: 0.1656896021871184\n",
            "PSNR: 14.515124024385607, SSIM: 0.023332448029972207, MSE: 0.14143196941495176\n",
            "PSNR: 13.501762428507469, SSIM: 0.008856186764981733, MSE: 0.1786009433599742\n",
            "PSNR: 12.26513902060239, SSIM: 0.00014989986465683007, MSE: 0.23743573867623835\n",
            "PSNR: 22.80331922014364, SSIM: -0.018149127080650244, MSE: 0.020976260573292466\n",
            "PSNR: 10.788162927403818, SSIM: -0.009029435599593086, MSE: 0.33361356307538476\n",
            "PSNR: 11.453685598956966, SSIM: 0.007331954678460298, MSE: 0.2862143678810533\n",
            "PSNR: 13.05388891399047, SSIM: -0.015598206831838997, MSE: 0.19800269430571205\n",
            "PSNR: 11.167755480140087, SSIM: 0.03207896475880372, MSE: 0.30569226042448233\n",
            "PSNR: 12.788202769372049, SSIM: 0.056441101714200255, MSE: 0.2104939967698952\n",
            "PSNR: 12.013733242474965, SSIM: 0.028505911884297484, MSE: 0.25158611401128017\n",
            "PSNR: 11.130084418990071, SSIM: 0.022444138188821905, MSE: 0.3083553936965365\n",
            "PSNR: 17.11094568394823, SSIM: -0.018006749787986435, MSE: 0.07779746088506617\n",
            "PSNR: 12.92210334672063, SSIM: 0.04228226467053311, MSE: 0.2041031261537347\n",
            "PSNR: 17.345484510423088, SSIM: -0.024857194003215597, MSE: 0.07370747609892188\n",
            "PSNR: 11.174074032117565, SSIM: -0.11980759587673759, MSE: 0.30524783202288164\n",
            "PSNR: 12.709661211145054, SSIM: 0.06389747277667948, MSE: 0.21433538244562475\n",
            "PSNR: 15.884699201060942, SSIM: 0.1957545800062171, MSE: 0.10317870464305386\n",
            "PSNR: 12.103696129434194, SSIM: -0.008804992281952242, MSE: 0.24642818500802421\n",
            "PSNR: 12.447791963044569, SSIM: 0.07471421569269296, MSE: 0.22765688807416928\n",
            "PSNR: 12.655210240349806, SSIM: 0.03197474429021143, MSE: 0.2170395934709708\n",
            "PSNR: 11.871845834753739, SSIM: 0.030921506991788465, MSE: 0.25994137259231903\n",
            "PSNR: 9.717756834716502, SSIM: 0.00586274669022702, MSE: 0.4268588675379455\n",
            "PSNR: 14.958809402776016, SSIM: -0.20936038004668395, MSE: 0.12769651678564073\n",
            "PSNR: 17.500167244556327, SSIM: 0.28191959469286143, MSE: 0.07112843722952582\n",
            "PSNR: 11.114916327744515, SSIM: 0.07947721194190854, MSE: 0.3094342330894742\n",
            "PSNR: 15.332449989052108, SSIM: -0.1550357402191076, MSE: 0.11716961217206073\n",
            "PSNR: 12.705323423239815, SSIM: -0.0671501579412495, MSE: 0.21454957027018692\n",
            "PSNR: 11.869654358092578, SSIM: 0.05454031309500952, MSE: 0.2600725737070117\n",
            "PSNR: 12.183214857133, SSIM: 0.061263791352366564, MSE: 0.24195717522676738\n",
            "PSNR: 13.893060356989583, SSIM: 0.03925135098592922, MSE: 0.1632127023772268\n",
            "PSNR: 11.363846248757937, SSIM: 0.028541964365795758, MSE: 0.2921967401294401\n",
            "PSNR: 14.57410122009695, SSIM: -0.21569593020263783, MSE: 0.13952430546153902\n",
            "PSNR: 11.981170437816127, SSIM: 0.05678858183129305, MSE: 0.2534795617266341\n",
            "PSNR: 12.737906062653853, SSIM: 0.12606745360168223, MSE: 0.21294595018741194\n",
            "PSNR: 11.727551912218036, SSIM: 0.04573919051771178, MSE: 0.2687229757570711\n",
            "PSNR: 12.734382444169803, SSIM: -0.07813247888839474, MSE: 0.21311879253091914\n",
            "PSNR: 17.182436997266034, SSIM: -0.035548699459681574, MSE: 0.07652728248010134\n",
            "PSNR: 12.240208322894082, SSIM: 0.08090217280735328, MSE: 0.2388026594443987\n",
            "PSNR: 10.905216674745965, SSIM: -0.016797979915025463, MSE: 0.32474189740584675\n",
            "PSNR: 13.401902729519104, SSIM: 0.12120957387183905, MSE: 0.18275518966151952\n",
            "PSNR: 13.84534923181179, SSIM: 0.010087185835268301, MSE: 0.16501562481329907\n",
            "PSNR: 13.48083472971145, SSIM: -0.013345650522518545, MSE: 0.17946365909338502\n",
            "PSNR: 12.577717125339243, SSIM: 0.11144747177303402, MSE: 0.22094708631953996\n",
            "PSNR: 10.663703253218003, SSIM: 0.10980824509752482, MSE: 0.34331253924130783\n",
            "PSNR: 12.978302588449466, SSIM: 0.17572625684921195, MSE: 0.20147897486664598\n",
            "PSNR: 11.152426513919359, SSIM: 0.01599833059246801, MSE: 0.3067731458799558\n",
            "PSNR: 14.847976401141718, SSIM: 0.03749196748704895, MSE: 0.13099730203840604\n",
            "PSNR: 11.506997716683273, SSIM: 0.03998998457865643, MSE: 0.28272240052224007\n",
            "PSNR: 9.727660939929892, SSIM: 0.002309256567921192, MSE: 0.42588652310797565\n",
            "PSNR: 9.749528996146843, SSIM: 0.020192316084579283, MSE: 0.42374744411012105\n",
            "PSNR: 14.417816085346136, SSIM: 0.09630883286109532, MSE: 0.14463665947557103\n",
            "PSNR: 11.961316691105221, SSIM: 0.0023119897514257267, MSE: 0.2546409947725106\n",
            "PSNR: 13.20194181925526, SSIM: -0.025752307714247715, MSE: 0.19136645395074783\n",
            "PSNR: 14.036495059778332, SSIM: 0.004605658527587114, MSE: 0.1579103097203132\n",
            "PSNR: 12.17098305256762, SSIM: 0.05694211202351385, MSE: 0.2426396026358741\n",
            "PSNR: 11.061069735480142, SSIM: 0.0018281977579561576, MSE: 0.31329467820465834\n",
            "PSNR: 10.927497772608078, SSIM: 0.0059941325437415675, MSE: 0.3230801040429659\n",
            "PSNR: 14.450612953933234, SSIM: 0.013365147223776463, MSE: 0.14354851229851992\n",
            "PSNR: 11.237437316322168, SSIM: 0.01799516697386458, MSE: 0.300826616931488\n",
            "PSNR: 12.275350451330514, SSIM: 0.08338925775416622, MSE: 0.23687811924127597\n",
            "PSNR: 11.500584847262756, SSIM: -0.013637004881617098, MSE: 0.2831401818137755\n",
            "PSNR: 11.947652910876643, SSIM: 0.0571053193755701, MSE: 0.25544340831021495\n",
            "PSNR: 12.720554262492428, SSIM: 0.13629516642316392, MSE: 0.21379845627708113\n",
            "PSNR: 12.771128008320328, SSIM: 0.020618785279597283, MSE: 0.21132320586244968\n",
            "PSNR: 14.282862106459966, SSIM: 0.01770245861694208, MSE: 0.1492017031530762\n",
            "PSNR: 13.417420247315508, SSIM: 0.07275491231244516, MSE: 0.1821033631591007\n",
            "PSNR: 14.432067784987769, SSIM: 0.1576273906765878, MSE: 0.14416280133896864\n",
            "PSNR: 10.592902364768337, SSIM: 0.07292994489699806, MSE: 0.3489552646390021\n",
            "PSNR: 13.076131561536677, SSIM: 0.015707799787044046, MSE: 0.19699120426490016\n",
            "PSNR: 11.885705416098258, SSIM: 0.10462709813531489, MSE: 0.25911314744359426\n",
            "PSNR: 12.889731477854449, SSIM: 0.13335410012436935, MSE: 0.20563017425262697\n",
            "PSNR: 16.01050686464252, SSIM: 0.023462906562246075, MSE: 0.10023267129387037\n",
            "PSNR: 12.790707537332334, SSIM: 0.0008816728481675163, MSE: 0.21037263059343203\n",
            "PSNR: 13.635630162468203, SSIM: 0.050529226345358204, MSE: 0.1731796968511771\n",
            "PSNR: 11.187158618609267, SSIM: 0.06836314640115436, MSE: 0.3043295539501502\n",
            "PSNR: 10.743827763730021, SSIM: -0.023679351758225282, MSE: 0.3370367163651158\n",
            "PSNR: 12.552127557389777, SSIM: 0.08748797768047951, MSE: 0.22225279721331218\n",
            "PSNR: 11.237288557268856, SSIM: 0.008236820403147134, MSE: 0.3008369213334646\n",
            "PSNR: 12.817649615405216, SSIM: 0.050852321923886216, MSE: 0.2090715937086752\n",
            "PSNR: 13.021928326180445, SSIM: -0.03515341181044324, MSE: 0.19946521007061513\n",
            "PSNR: 14.86461170899815, SSIM: -0.007103982869094233, MSE: 0.13049648697565697\n",
            "PSNR: 10.08470399809376, SSIM: -0.03367127153279116, MSE: 0.3922740610242565\n",
            "PSNR: 13.718327927509293, SSIM: 0.06004135142667947, MSE: 0.16991323109631715\n",
            "PSNR: 11.68313858562392, SSIM: 0.0024986491935400394, MSE: 0.27148518358065304\n",
            "PSNR: 12.908649316913078, SSIM: 0.10146693340296435, MSE: 0.2047363986201092\n",
            "PSNR: 11.371313936567716, SSIM: -0.008344324272052362, MSE: 0.2916947399434685\n",
            "PSNR: 12.44433951230807, SSIM: 0.007606872847609545, MSE: 0.2278379372732674\n",
            "PSNR: 11.754406678588351, SSIM: -0.003020459651751942, MSE: 0.26706644379101474\n",
            "PSNR: 11.69956203917524, SSIM: 0.002455479607102509, MSE: 0.2704604631524421\n",
            "PSNR: 12.245072419761804, SSIM: 0.18577314460708352, MSE: 0.2385353502599755\n",
            "PSNR: 12.08723612035983, SSIM: 0.038961623496842186, MSE: 0.24736393406426468\n",
            "PSNR: 11.684690811493981, SSIM: 0.048935645834050974, MSE: 0.2713881685266459\n",
            "PSNR: 12.41747711653005, SSIM: 0.05466330834114019, MSE: 0.22925154947246443\n"
          ]
        }
      ],
      "source": [
        "model.eval()\n",
        "with torch.no_grad():\n",
        "    for raw, ref in test_loader:\n",
        "        raw = raw.cuda()\n",
        "        noise = torch.randn_like(raw)  # Generate random noise\n",
        "        t = torch.randint(0, T, (raw.shape[0],))  # Random time step\n",
        "        xt = forward_diffusion(raw, noise, t, T)  # Apply noise\n",
        "\n",
        "        enhanced = model(xt)  # Denoise\n",
        "\n",
        "        # Move tensors to CPU for evaluation\n",
        "        ref = ref.squeeze().permute(1, 2, 0).cpu().numpy()\n",
        "        enhanced = enhanced.squeeze().permute(1, 2, 0).cpu().numpy()\n",
        "\n",
        "        # Evaluate PSNR, SSIM, and MSE\n",
        "        psnr, ssim, mse = evaluate_metrics(ref, enhanced)\n",
        "        print(f\"PSNR: {psnr}, SSIM: {ssim}, MSE: {mse}\")"
      ]
    }
  ],
  "metadata": {
    "accelerator": "GPU",
    "colab": {
      "gpuType": "T4",
      "provenance": [],
      "include_colab_link": true
    },
    "kernelspec": {
      "display_name": "Python 3",
      "name": "python3"
    },
    "language_info": {
      "name": "python"
    }
  },
  "nbformat": 4,
  "nbformat_minor": 0
}